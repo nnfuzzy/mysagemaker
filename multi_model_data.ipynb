{
 "cells": [
  {
   "cell_type": "markdown",
   "metadata": {},
   "source": [
    "# Imports "
   ]
  },
  {
   "cell_type": "code",
   "execution_count": 101,
   "metadata": {},
   "outputs": [],
   "source": [
    "import pandas as pd\n",
    "import  numpy as np\n",
    "import os\n",
    "from random import randint, choice\n",
    "from sklearn import linear_model\n",
    "from joblib import dump, load"
   ]
  },
  {
   "cell_type": "code",
   "execution_count": 4,
   "metadata": {},
   "outputs": [],
   "source": [
    "df = pd.read_csv('data/iris.csv', sep=\",\", index_col=None, header=None)"
   ]
  },
  {
   "cell_type": "markdown",
   "metadata": {},
   "source": [
    "# Linear Model Data"
   ]
  },
  {
   "cell_type": "code",
   "execution_count": 66,
   "metadata": {},
   "outputs": [],
   "source": [
    "def random_char():    \n",
    "    return randint(97, 122)\n",
    "\n",
    "model_prefix = [str.upper(chr(s)) for s in range(97,107)]"
   ]
  },
  {
   "cell_type": "code",
   "execution_count": 67,
   "metadata": {},
   "outputs": [
    {
     "data": {
      "text/plain": [
       "['A', 'B', 'C', 'D', 'E', 'F', 'G', 'H', 'I', 'J']"
      ]
     },
     "execution_count": 67,
     "metadata": {},
     "output_type": "execute_result"
    }
   ],
   "source": [
    "model_prefix"
   ]
  },
  {
   "cell_type": "code",
   "execution_count": 73,
   "metadata": {},
   "outputs": [],
   "source": [
    "def generate_data(model_prefix='A', number_of_records = 500,number_of_features = 2):\n",
    "    train_X = np.random.randint(number_of_records, size=(number_of_records, number_of_features))\n",
    "    train_y = np.random.randint(number_of_records, size=number_of_records)\n",
    "    #val_X = np.random.randint(number_of_records, size=(number_of_records, number_of_features))\n",
    "    #val_y = np.random.randint(number_of_records, size=number_of_records)        \n",
    "    df_train = pd.concat([pd.DataFrame(train_X),pd.DataFrame(train_y)],axis=1)\n",
    "    #df_train.insert(value=chr(random_char()) + chr(random_char()) + chr(random_char()),loc=0,column='model_type')    \n",
    "    df_train.insert(value=model_prefix,loc=0,column='model_type')    \n",
    "    return df_train"
   ]
  },
  {
   "cell_type": "code",
   "execution_count": 74,
   "metadata": {},
   "outputs": [],
   "source": [
    "dfs=[]\n",
    "for i in range(10):\n",
    "    dfs.append(generate_data(model_prefix[i]))"
   ]
  },
  {
   "cell_type": "code",
   "execution_count": 75,
   "metadata": {},
   "outputs": [],
   "source": [
    "df_final=pd.concat(dfs)"
   ]
  },
  {
   "cell_type": "code",
   "execution_count": 76,
   "metadata": {},
   "outputs": [
    {
     "data": {
      "text/plain": [
       "A    500\n",
       "H    500\n",
       "G    500\n",
       "C    500\n",
       "E    500\n",
       "I    500\n",
       "D    500\n",
       "F    500\n",
       "J    500\n",
       "B    500\n",
       "Name: model_type, dtype: int64"
      ]
     },
     "execution_count": 76,
     "metadata": {},
     "output_type": "execute_result"
    }
   ],
   "source": [
    "df_final.model_type.value_counts()"
   ]
  },
  {
   "cell_type": "code",
   "execution_count": 77,
   "metadata": {},
   "outputs": [],
   "source": [
    "df_final.to_csv(\"data/train_multi_model.csv\", sep=\",\", index=None,header=False)"
   ]
  },
  {
   "cell_type": "markdown",
   "metadata": {},
   "source": [
    "# Do models"
   ]
  },
  {
   "cell_type": "code",
   "execution_count": 99,
   "metadata": {},
   "outputs": [],
   "source": [
    "prefix_model_path = 'data/models'\n",
    "g=df_final.groupby(by=df_final.columns[0])"
   ]
  },
  {
   "cell_type": "code",
   "execution_count": 102,
   "metadata": {},
   "outputs": [],
   "source": [
    "for model_name, tmp_df in g:    \n",
    "    train_y = tmp_df.iloc[:, 1]\n",
    "    train_X = tmp_df.iloc[:, 2:]\n",
    "    reg = linear_model.BayesianRidge(n_iter=300, normalize=True)\n",
    "    tmp_model = reg.fit(train_X, train_y)\n",
    "    model_file_path = os.path.join(prefix_model_path, \"regression_{}.joblib\".format(model_name))\n",
    "    dump(reg, model_file_path)"
   ]
  },
  {
   "cell_type": "markdown",
   "metadata": {},
   "source": [
    "# Simple predict"
   ]
  },
  {
   "cell_type": "code",
   "execution_count": 106,
   "metadata": {},
   "outputs": [
    {
     "data": {
      "text/plain": [
       "248.6238256232875"
      ]
     },
     "execution_count": 106,
     "metadata": {},
     "output_type": "execute_result"
    }
   ],
   "source": [
    "reg.predict(np.array([[12,13]]))[0]"
   ]
  },
  {
   "cell_type": "markdown",
   "metadata": {},
   "source": [
    "# Predict  with model input prefix - Endpoint simulation"
   ]
  },
  {
   "cell_type": "code",
   "execution_count": 107,
   "metadata": {},
   "outputs": [],
   "source": [
    "input_row = np.array([['A',12,13]])"
   ]
  },
  {
   "cell_type": "code",
   "execution_count": 114,
   "metadata": {},
   "outputs": [
    {
     "name": "stdout",
     "output_type": "stream",
     "text": [
      "A\n",
      "data/models/regression_A.joblib\n",
      "BayesianRidge(alpha_1=1e-06, alpha_2=1e-06, compute_score=False, copy_X=True,\n",
      "       fit_intercept=True, lambda_1=1e-06, lambda_2=1e-06, n_iter=300,\n",
      "       normalize=True, tol=0.001, verbose=False)\n"
     ]
    }
   ],
   "source": [
    "model_prefix = input_row[0][0]\n",
    "print(model_prefix)\n",
    "tmp_model_path = os.path.join(prefix_model_path, \"regression_{}.joblib\".format(model_prefix))\n",
    "print(tmp_model_path)\n",
    "new_model = load(tmp_model_path)\n",
    "print(new_model)"
   ]
  },
  {
   "cell_type": "code",
   "execution_count": 129,
   "metadata": {},
   "outputs": [
    {
     "data": {
      "text/plain": [
       "array([[12., 13.]])"
      ]
     },
     "execution_count": 129,
     "metadata": {},
     "output_type": "execute_result"
    }
   ],
   "source": [
    "input_row_data = np.array(list(input_row[0,1:]),dtype=np.float64).reshape(1,2)\n",
    "input_row_data"
   ]
  },
  {
   "cell_type": "code",
   "execution_count": 130,
   "metadata": {},
   "outputs": [
    {
     "data": {
      "text/plain": [
       "array([252.99151015])"
      ]
     },
     "execution_count": 130,
     "metadata": {},
     "output_type": "execute_result"
    }
   ],
   "source": [
    "new_model.predict(input_row_data)"
   ]
  }
 ],
 "metadata": {
  "kernelspec": {
   "display_name": "Python 3",
   "language": "python",
   "name": "python3"
  },
  "language_info": {
   "codemirror_mode": {
    "name": "ipython",
    "version": 3
   },
   "file_extension": ".py",
   "mimetype": "text/x-python",
   "name": "python",
   "nbconvert_exporter": "python",
   "pygments_lexer": "ipython3",
   "version": "3.7.2"
  }
 },
 "nbformat": 4,
 "nbformat_minor": 2
}
